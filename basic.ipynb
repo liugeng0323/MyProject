{
 "cells": [
  {
   "cell_type": "code",
   "execution_count": 2,
   "metadata": {},
   "outputs": [
    {
     "name": "stdout",
     "output_type": "stream",
     "text": [
      "llb\n"
     ]
    }
   ],
   "source": [
    "#coding=utf-8\n",
    "import numpy as np\n",
    "import pandas as pd\n",
    "from scipy.stats import mode\n",
    "import xgboost as xgb\n",
    "from xgboost import XGBRegressor\n",
    "from xgboost import XGBClassifier\n",
    "from sklearn.metrics import mean_squared_error\n",
    "from sklearn.model_selection import GridSearchCV\n",
    "from sklearn.model_selection import KFold\n",
    "from matplotlib import  pyplot\n",
    "import matplotlib.pyplot as plt\n",
    "import seaborn as sns\n",
    "from sklearn.ensemble import RandomForestRegressor"
   ]
  },
  {
   "cell_type": "code",
   "execution_count": 3,
   "metadata": {},
   "outputs": [
    {
     "name": "stdout",
     "output_type": "stream",
     "text": [
      "   REPORT_ID             ID_CARD  LOAN_DATE   AGENT IS_LOCAL  WORK_PROVINCE  \\\n",
      "0       8787  320382**********13  2017/2/15     APP      本地籍       320000.0   \n",
      "1       9410  120223**********8X  2017/3/13  wechat      本地籍       120000.0   \n",
      "2      22999  330226**********90  2017/2/27     APP      本地籍            NaN   \n",
      "3      24820  230105**********20  2017/2/24     APP      本地籍       230000.0   \n",
      "4      25708  340222**********29  2017/1/16     NaN      本地籍            NaN   \n",
      "\n",
      "  EDU_LEVEL MARRY_STATUS  SALARY  HAS_FUND  Y  \n",
      "0        本科           已婚     3.0       0.0  0  \n",
      "1       NaN           已婚     6.0       1.0  0  \n",
      "2     专科及以下           已婚     4.0       0.0  0  \n",
      "3     专科及以下           已婚     2.0       0.0  1  \n",
      "4        专科           未婚     NaN       1.0  0  \n",
      "(30000, 11)\n",
      "(10000, 10)\n",
      "                      ID_CARD  LOAN_DATE   AGENT IS_LOCAL  WORK_PROVINCE  \\\n",
      "REPORT_ID                                                                  \n",
      "8787       320382**********13  2017/2/15     APP      本地籍       320000.0   \n",
      "9410       120223**********8X  2017/3/13  wechat      本地籍       120000.0   \n",
      "22999      330226**********90  2017/2/27     APP      本地籍            NaN   \n",
      "24820      230105**********20  2017/2/24     APP      本地籍       230000.0   \n",
      "25708      340222**********29  2017/1/16     NaN      本地籍            NaN   \n",
      "\n",
      "          EDU_LEVEL MARRY_STATUS  SALARY  HAS_FUND  \n",
      "REPORT_ID                                           \n",
      "8787             本科           已婚     3.0       0.0  \n",
      "9410            NaN           已婚     6.0       1.0  \n",
      "22999         专科及以下           已婚     4.0       0.0  \n",
      "24820         专科及以下           已婚     2.0       0.0  \n",
      "25708            专科           未婚     NaN       1.0  \n",
      "(40000, 9)\n",
      "[  3.   6.   4.   2.  nan   5.   7.   1.]\n"
     ]
    }
   ],
   "source": [
    "train = pd.read_table(\"../input/contest_basic_train.tsv\")\n",
    "test = pd.read_table(\"../input/contest_basic_test.tsv\")\n",
    "print(train.head())\n",
    "print(train.shape)\n",
    "# print(test.head())    # (30000, 11)\n",
    "print(test.shape)  #  (10000, 10)\n",
    "fulldata = pd.concat([train.iloc[:,0:-1],test],axis = 0,ignore_index = True)\n",
    "\n",
    "fulldata.index = fulldata['REPORT_ID']\n",
    "del fulldata['REPORT_ID']\n",
    "print(fulldata.head())\n",
    "print(fulldata.shape)  #  (40000, 9),ID 用来做  index\n",
    "# print(fulldata. MARRY_STATUS)\n",
    "print(fulldata.SALARY.unique())"
   ]
  },
  {
   "cell_type": "raw",
   "metadata": {},
   "source": [
    "下面是看一下列的缺失值训练集和测试集会不会差异太多"
   ]
  },
  {
   "cell_type": "code",
   "execution_count": 4,
   "metadata": {},
   "outputs": [
    {
     "name": "stdout",
     "output_type": "stream",
     "text": [
      "(40000, 9)\n",
      "                 num     ratio\n",
      "SALARY         26666  0.666650\n",
      "AGENT          26174  0.654350\n",
      "EDU_LEVEL       5593  0.139825\n",
      "WORK_PROVINCE   2925  0.073125\n",
      "HAS_FUND        1079  0.026975\n",
      "IS_LOCAL         276  0.006900\n",
      "MARRY_STATUS       1  0.000025\n"
     ]
    }
   ],
   "source": [
    "print(fulldata.shape)\n",
    "null_sum = fulldata.isnull().sum()\n",
    "# print(null_sum)\n",
    "null_sum = null_sum[null_sum !=0]  #把没有缺失值的剔除掉，对于数据集维度大的数据有效\n",
    "null_sum_df = pd.DataFrame(null_sum,columns=['num'])  # 对缺失值这一列进行设为DataFrame\n",
    "null_sum_df['ratio'] = null_sum_df['num'] / fulldata.shape[0]\n",
    "# print(null_sum_df)\n",
    "null_sum_df.sort_values(by='ratio',ascending=False,inplace=True)\n",
    "print(null_sum_df)\n",
    "# print(fulldata.head())"
   ]
  },
  {
   "cell_type": "code",
   "execution_count": 5,
   "metadata": {
    "scrolled": true
   },
   "outputs": [
    {
     "name": "stdout",
     "output_type": "stream",
     "text": [
      "[4 3 2 1 0]\n",
      "[5 4 3 2 1 0]\n"
     ]
    },
    {
     "name": "stderr",
     "output_type": "stream",
     "text": [
      "c:\\users\\llb\\appdata\\local\\programs\\python\\python36\\lib\\site-packages\\ipykernel_launcher.py:14: DeprecationWarning: \n",
      ".ix is deprecated. Please use\n",
      ".loc for label based indexing or\n",
      ".iloc for positional indexing\n",
      "\n",
      "See the documentation here:\n",
      "http://pandas.pydata.org/pandas-docs/stable/indexing.html#ix-indexer-is-deprecated\n",
      "  \n",
      "c:\\users\\llb\\appdata\\local\\programs\\python\\python36\\lib\\site-packages\\pandas\\core\\indexing.py:194: SettingWithCopyWarning: \n",
      "A value is trying to be set on a copy of a slice from a DataFrame\n",
      "\n",
      "See the caveats in the documentation: http://pandas.pydata.org/pandas-docs/stable/indexing.html#indexing-view-versus-copy\n",
      "  self._setitem_with_indexer(indexer, value)\n"
     ]
    }
   ],
   "source": [
    "#按行统计 测试集最大的缺失值个数是否小于 训练集的，是，删除\n",
    "train_record_nan = train.isnull().sum(axis = 1).sort_values(ascending = False)  #按行统计缺失值\n",
    "print(train_record_nan.unique())  # [4 3 2 1 0]\n",
    "test_record_nan = test.isnull().sum(axis= 1).sort_values(ascending = False)\n",
    "print(test_record_nan.unique())  # [5 4 3 2 1 0]\n",
    "#说明训练集和测试集缺失值差异不大，不用删除行\n",
    "\n",
    "#然后，每一行的缺失值个数作为 一个新的特征，连续值特征\n",
    "# print(fulldata.isnull().sum(axis=1))\n",
    "fulldata['null_num'] = fulldata.isnull().sum(axis = 1)\n",
    "\n",
    "# 薪水缺失值较大，用-1填充，客户渠道用-1 填充 也许是没有统计到的。其余用众数填充\n",
    "#字符先转换成数字\n",
    "fulldata['AGENT'].ix[fulldata['AGENT'].isnull()] = -1\n",
    "from sklearn.preprocessing import LabelEncoder\n",
    "le = LabelEncoder()\n",
    "\n",
    "# print(11,fulldata.MARRY_STATUS.unique())\n",
    "\n",
    "fulldata['AGENT'] = fulldata['AGENT'].astype('str')\n",
    "c= le.fit_transform(fulldata['AGENT']) #文字不行\n",
    "fulldata['AGENT'] = c\n",
    "\n",
    "fulldata['IS_LOCAL'] = fulldata['IS_LOCAL'].astype('str')\n",
    "c= le.fit_transform(fulldata['IS_LOCAL']) #文字不行\n",
    "fulldata['IS_LOCAL'] = c\n",
    "\n",
    "fulldata['EDU_LEVEL'] = fulldata['EDU_LEVEL'].astype('str')\n",
    "c= le.fit_transform(fulldata['EDU_LEVEL']) #文字不行\n",
    "fulldata['EDU_LEVEL'] = c\n",
    "\n",
    "fulldata['MARRY_STATUS'] = fulldata['MARRY_STATUS'].astype('str')\n",
    "c= le.fit_transform(fulldata['MARRY_STATUS']) #文字不行\n",
    "fulldata['MARRY_STATUS'] = c\n",
    "\n",
    "# # fulldata['AGENT'] = c.labels\n",
    "# print(fulldata.head())\n"
   ]
  },
  {
   "cell_type": "code",
   "execution_count": 6,
   "metadata": {},
   "outputs": [
    {
     "name": "stdout",
     "output_type": "stream",
     "text": [
      "                      ID_CARD  LOAN_DATE  AGENT  IS_LOCAL  WORK_PROVINCE  \\\n",
      "REPORT_ID                                                                  \n",
      "8787       320382**********13  2017/2/15      1         1       320000.0   \n",
      "9410       120223**********8X  2017/3/13     11         1       120000.0   \n",
      "22999      330226**********90  2017/2/27      1         1       330600.0   \n",
      "24820      230105**********20  2017/2/24      1         1       230000.0   \n",
      "25708      340222**********29  2017/1/16      0         1       330600.0   \n",
      "\n",
      "           EDU_LEVEL  MARRY_STATUS  SALARY  HAS_FUND  null_num  \n",
      "REPORT_ID                                                       \n",
      "8787               6             3     3.0       0.0         0  \n",
      "9410               0             3     6.0       1.0         1  \n",
      "22999              2             3     4.0       0.0         1  \n",
      "24820              2             3     2.0       0.0         0  \n",
      "25708              1             4     NaN       1.0         3  \n"
     ]
    }
   ],
   "source": [
    "label = fulldata.columns\n",
    "for i in range(len(label)):\n",
    "    if fulldata[label[i]].isnull().any() and label[i] != 'SALARY':\n",
    "        fulldata[label[i]].fillna(fulldata[label[i]].median(),inplace = True)\n",
    "print(fulldata.iloc[0:5,:])"
   ]
  },
  {
   "cell_type": "markdown",
   "metadata": {},
   "source": [
    "#  薪水缺失值较多（60%以上），先使用随机森林填充"
   ]
  },
  {
   "cell_type": "code",
   "execution_count": 7,
   "metadata": {},
   "outputs": [
    {
     "name": "stderr",
     "output_type": "stream",
     "text": [
      "c:\\users\\llb\\appdata\\local\\programs\\python\\python36\\lib\\site-packages\\ipykernel_launcher.py:13: DeprecationWarning: \n",
      ".ix is deprecated. Please use\n",
      ".loc for label based indexing or\n",
      ".iloc for positional indexing\n",
      "\n",
      "See the documentation here:\n",
      "http://pandas.pydata.org/pandas-docs/stable/indexing.html#ix-indexer-is-deprecated\n",
      "  del sys.path[0]\n",
      "c:\\users\\llb\\appdata\\local\\programs\\python\\python36\\lib\\site-packages\\ipykernel_launcher.py:18: DeprecationWarning: \n",
      ".ix is deprecated. Please use\n",
      ".loc for label based indexing or\n",
      ".iloc for positional indexing\n",
      "\n",
      "See the documentation here:\n",
      "http://pandas.pydata.org/pandas-docs/stable/indexing.html#ix-indexer-is-deprecated\n",
      "c:\\users\\llb\\appdata\\local\\programs\\python\\python36\\lib\\site-packages\\pandas\\core\\indexing.py:194: SettingWithCopyWarning: \n",
      "A value is trying to be set on a copy of a slice from a DataFrame\n",
      "\n",
      "See the caveats in the documentation: http://pandas.pydata.org/pandas-docs/stable/indexing.html#indexing-view-versus-copy\n",
      "  self._setitem_with_indexer(indexer, value)\n"
     ]
    }
   ],
   "source": [
    "xgb = XGBClassifier(\n",
    "    learning_rate = 0.1,\n",
    "    n_estimators = 80,\n",
    "    max_depth = 4,\n",
    "    min_child_weight = 4,\n",
    "    colsample_bytree = 0.7,\n",
    "    subsample = 0.75,\n",
    "    seed = 3\n",
    ")\n",
    "mm = pd.concat([fulldata.AGENT,fulldata.IS_LOCAL,fulldata.WORK_PROVINCE,fulldata.EDU_LEVEL,fulldata.MARRY_STATUS,\n",
    "                    fulldata.HAS_FUND,fulldata.null_num,fulldata.SALARY],axis = 1)\n",
    "nn = train.Y\n",
    "mm_notnull = mm.ix[mm.SALARY.notnull()]\n",
    "mm_isnull = mm.ix[mm.SALARY.isnull()]\n",
    "\n",
    "# trainx = trainxxx.loc[train.SALARY.notnull()] # 这样写严重错误，因为这个数据集中根本就没有这一列\n",
    "xgb.fit(mm_notnull.iloc[:,0:-1],mm_notnull.iloc[:,-1])\n",
    "fulldata.SALARY.ix[fulldata.SALARY.isnull()] = xgb.predict(mm_isnull.iloc[:,0:-1])"
   ]
  },
  {
   "cell_type": "code",
   "execution_count": 8,
   "metadata": {},
   "outputs": [
    {
     "name": "stdout",
     "output_type": "stream",
     "text": [
      "                      ID_CARD  LOAN_DATE  AGENT  IS_LOCAL  WORK_PROVINCE  \\\n",
      "REPORT_ID                                                                  \n",
      "8787       320382**********13  2017/2/15      1         1       320000.0   \n",
      "9410       120223**********8X  2017/3/13     11         1       120000.0   \n",
      "22999      330226**********90  2017/2/27      1         1       330600.0   \n",
      "24820      230105**********20  2017/2/24      1         1       230000.0   \n",
      "25708      340222**********29  2017/1/16      0         1       330600.0   \n",
      "\n",
      "           EDU_LEVEL  MARRY_STATUS  SALARY  HAS_FUND  null_num  \n",
      "REPORT_ID                                                       \n",
      "8787               6             3     3.0       0.0         0  \n",
      "9410               0             3     6.0       1.0         1  \n",
      "22999              2             3     4.0       0.0         1  \n",
      "24820              2             3     2.0       0.0         0  \n",
      "25708              1             4     2.0       1.0         3  \n"
     ]
    }
   ],
   "source": [
    "print(fulldata.head())"
   ]
  },
  {
   "cell_type": "markdown",
   "metadata": {},
   "source": [
    "# 下面除了身份证，时间，工作城市外其余数据one-hot 编码 保存起来"
   ]
  },
  {
   "cell_type": "code",
   "execution_count": 229,
   "metadata": {},
   "outputs": [
    {
     "name": "stdout",
     "output_type": "stream",
     "text": [
      "(40000, 45)\n"
     ]
    }
   ],
   "source": [
    "#后面再编码，先处理特殊类别\n",
    "AGENT = pd.get_dummies(fulldata.AGENT,prefix = 'AGENT')\n",
    "IS_LOCAL = pd.get_dummies(fulldata.IS_LOCAL,prefix = 'IS_LOCAL')\n",
    "EDU_LEVEL = pd.get_dummies(fulldata.EDU_LEVEL,prefix = 'EDU_LEVEL')\n",
    "MARRY_STATUS = pd.get_dummies(fulldata.MARRY_STATUS,prefix = 'MARRY_STATUS')\n",
    "HAS_FUND = pd.get_dummies(fulldata.HAS_FUND,prefix = 'HAS_FUND')\n",
    "ff = pd.concat([AGENT,IS_LOCAL,EDU_LEVEL,MARRY_STATUS,HAS_FUND,fulldata.SALARY,fulldata.null_num],axis = 1)\n",
    "# ff.to_csv(\"../basic-input/除身份证时间工作城市外所有数据.csv\",index = False)\n",
    "print(ff.shape)"
   ]
  },
  {
   "cell_type": "code",
   "execution_count": 104,
   "metadata": {},
   "outputs": [
    {
     "name": "stdout",
     "output_type": "stream",
     "text": [
      "(323,)\n"
     ]
    }
   ],
   "source": [
    "print(fulldata['WORK_PROVINCE'].unique().shape) # 为城市编码 ，后面引入经纬度"
   ]
  },
  {
   "cell_type": "markdown",
   "metadata": {},
   "source": [
    "#  下面对身份证号码进行处理：省，区，男性还是女性等\n",
    "\n",
    "#  身份证号码很有探索的地方：\n",
    "1.前两位是省份，第3、4位数字表示：所在城市的代码； 第5、6位数字表示：所在区县的代码； 第17位数字表示性别：奇数表示男性，偶数表示女性。总共18位。\n",
    "猜想：省份有关系，城市有关系（1,2线城市），区还是县也有关系（市里面的人应该更有合约精神，市分一线城市和二线城市也是同样的道理），男性和女性应该也有关系。\n",
    "\n",
    "猜想：客户渠道应该也有影响，如果是朋友推荐是不是更不可靠一点（全是贷款朋友），第三方机构来的为什么不在原平台？"
   ]
  },
  {
   "cell_type": "code",
   "execution_count": 16,
   "metadata": {
    "scrolled": true
   },
   "outputs": [
    {
     "name": "stdout",
     "output_type": "stream",
     "text": [
      "320382**********13\n"
     ]
    }
   ],
   "source": [
    "IC = fulldata[\"ID_CARD\"]\n",
    "print(IC.iloc[0])\n",
    "province = []  #省\n",
    "city = []      #市\n",
    "district = []  #区县\n",
    "sex = []\n",
    "# 首先前两位是省份，先提取，用xgb训练后 得到后保留\n",
    "kk = fulldata[\"ID_CARD\"].astype('str')\n",
    "for i in range(fulldata.shape[0]):\n",
    "    province.append(kk.iloc[i][0:2])\n",
    "    city.append(kk.iloc[i][2:4])\n",
    "    district.append(kk.iloc[i][4:6])\n",
    "    sex.append(int(kk.iloc[i][16])%2) #男性 或 女性\n",
    "    \n",
    "province = pd.DataFrame(province,columns = ['province'])\n",
    "city = pd.DataFrame(city,columns = ['city'])\n",
    "district = pd.DataFrame(district,columns = ['district'])\n",
    "sex = pd.DataFrame(sex,columns = ['sex'])\n",
    "# print(kk[0:10])\n",
    "# print(2,province.iloc[0:5])\n",
    "# print(3,city.head())\n",
    "# print(4,district.head())\n",
    "# print(5,sex.head())\n",
    "fulldata.index = sex.index\n",
    "IDcard = pd.concat([city,district, fulldata.WORK_PROVINCE],axis = 1)\n",
    "# print(IDcard)\n",
    "IDcard.index = fulldata.index\n",
    "# print(IDcard)\n",
    "IDcard.to_csv(\"../basic-input/IDcard.csv\",index = False)"
   ]
  },
  {
   "cell_type": "markdown",
   "metadata": {},
   "source": [
    "#  省和市县按照PDF先one-hot编码，得到29个重要的省市区县，经纬度后续引入"
   ]
  },
  {
   "cell_type": "code",
   "execution_count": 221,
   "metadata": {},
   "outputs": [
    {
     "name": "stdout",
     "output_type": "stream",
     "text": [
      "trainx.shape (40000, 125)\n",
      "trainy (30000,)\n"
     ]
    }
   ],
   "source": [
    "# print(1,province['province'].unique().shape)  #中国总共有 34 个省，直辖市，自治区  \n",
    "# print(1,province['province'].unique())\n",
    "# # print(sex)\n",
    "# print(2,city['city'].unique())\n",
    "# print(2,city['city'].unique().shape)\n",
    "# print(3,district['district'].unique())\n",
    "# print(3,district['district'].unique().shape)\n",
    "# print(train.Y.unique())\n",
    "province = pd.get_dummies(province,prefix='province')\n",
    "city = pd.get_dummies(city,prefix='city')\n",
    "district = pd.get_dummies(district,prefix='district')\n",
    "trainx = pd.concat([province,city,district],axis=1)\n",
    "trainy = train.Y\n",
    "print(\"trainx.shape\",trainx.shape)\n",
    "print(\"trainy\",trainy.shape)\n",
    "xgb = XGBClassifier()\n",
    "xgb.fit(trainx.iloc[0:30000,:],trainy)\n",
    "# print(trainx.head())\n",
    "importance = xgb.feature_importances_\n"
   ]
  },
  {
   "cell_type": "code",
   "execution_count": 222,
   "metadata": {},
   "outputs": [
    {
     "name": "stdout",
     "output_type": "stream",
     "text": [
      "96\n"
     ]
    }
   ],
   "source": [
    "# sns.distplot(importance)\n",
    "# importance = pd.Series(importance)\n",
    "# # print(importance.sort_values(ascending = False))\n",
    "label = trainx.columns\n",
    "number = 0\n",
    "for i in range(len(label)):\n",
    "    if importance[i] < 0.01:\n",
    "        number += 1\n",
    "        del trainx[label[i]]\n",
    "print(number)\n",
    "# print(trainx.head())"
   ]
  },
  {
   "cell_type": "code",
   "execution_count": 237,
   "metadata": {
    "collapsed": true
   },
   "outputs": [],
   "source": [
    "# print(ff.head())\n",
    "# print(trainx.head())"
   ]
  },
  {
   "cell_type": "code",
   "execution_count": 234,
   "metadata": {
    "collapsed": true
   },
   "outputs": [],
   "source": [
    "ff.index = trainx.index\n",
    "full = pd.concat([ff,trainx,sex],axis = 1)\n",
    "full.to_csv(\"../basic-input/basic-fulldata-Nodate-经纬度.csv\",index = False)\n",
    "# trainx.to_csv(\"../basic-input/省市区县(后缀为身份证号对应的地方编号).csv\",index = False)"
   ]
  },
  {
   "cell_type": "code",
   "execution_count": 236,
   "metadata": {},
   "outputs": [
    {
     "name": "stdout",
     "output_type": "stream",
     "text": [
      "RangeIndex(start=0, stop=40000, step=1)\n"
     ]
    }
   ],
   "source": []
  }
 ],
 "metadata": {
  "kernelspec": {
   "display_name": "Python 3",
   "language": "python",
   "name": "python3"
  },
  "language_info": {
   "codemirror_mode": {
    "name": "ipython",
    "version": 3
   },
   "file_extension": ".py",
   "mimetype": "text/x-python",
   "name": "python",
   "nbconvert_exporter": "python",
   "pygments_lexer": "ipython3",
   "version": "3.6.3"
  }
 },
 "nbformat": 4,
 "nbformat_minor": 2
}
